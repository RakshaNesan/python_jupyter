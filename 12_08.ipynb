{
 "cells": [
  {
   "cell_type": "markdown",
   "id": "ff54aeab",
   "metadata": {},
   "source": [
    "HOME WORK"
   ]
  },
  {
   "cell_type": "markdown",
   "id": "65d8e1d1",
   "metadata": {},
   "source": [
    "create a book class that has four attributes: name serial_no type numbers of copies\n",
    "\n",
    "and three methods: lent(count)\n",
    "received(count)\n",
    "availablity()"
   ]
  },
  {
   "cell_type": "code",
   "execution_count": 1,
   "id": "6bcbf4b7",
   "metadata": {},
   "outputs": [],
   "source": [
    "class Book():\n",
    "    \n",
    "    def __init__(self,name,serial_no,type,numbers):\n",
    "        self.name=name\n",
    "        self.serial_no=serial_no\n",
    "        self.type=type\n",
    "        self.numbers=numbers\n",
    "        \n",
    "    def Lend(self,count):\n",
    "        self.numbers=self.numbers-count\n",
    "        print(f'Number Of lend {self.name} Books:{count} & Now Available Books:{self.numbers}')\n",
    "        \n",
    "        \n",
    "    def Received(self,count1):\n",
    "        self.numbers=self.numbers+count1\n",
    "        print(f'Number Of Received {self.name} Books:{count1} & Now Available Books:{self.numbers}')\n",
    "        \n",
    "        \n",
    "    def Availablity(self):\n",
    "        print(f'Available Books:{self.numbers}' )\n",
    "        \n",
    "                \n",
    "      \n",
    "        "
   ]
  },
  {
   "cell_type": "code",
   "execution_count": 2,
   "id": "1a1cded7",
   "metadata": {},
   "outputs": [],
   "source": [
    "hp_book=Book(name='Harry Potter',serial_no='B001',type='Fantasy',numbers=50)\n",
    "dc_book=Book(name='Dracula', serial_no='B002',type='Horror',numbers=30)"
   ]
  },
  {
   "cell_type": "code",
   "execution_count": 3,
   "id": "639ab2ad",
   "metadata": {},
   "outputs": [
    {
     "name": "stdout",
     "output_type": "stream",
     "text": [
      "Available Books:50\n"
     ]
    }
   ],
   "source": [
    "hp_book.Availablity()"
   ]
  },
  {
   "cell_type": "code",
   "execution_count": 4,
   "id": "2b0860c9",
   "metadata": {},
   "outputs": [
    {
     "name": "stdout",
     "output_type": "stream",
     "text": [
      "Available Books:30\n"
     ]
    }
   ],
   "source": [
    "dc_book.Availablity()"
   ]
  },
  {
   "cell_type": "code",
   "execution_count": 5,
   "id": "bbd94ddc",
   "metadata": {},
   "outputs": [
    {
     "name": "stdout",
     "output_type": "stream",
     "text": [
      "Number Of Received Harry Potter Books:10 & Now Available Books:60\n"
     ]
    }
   ],
   "source": [
    "hp_book.Received(10)"
   ]
  },
  {
   "cell_type": "code",
   "execution_count": 6,
   "id": "70fdbe7d",
   "metadata": {},
   "outputs": [
    {
     "name": "stdout",
     "output_type": "stream",
     "text": [
      "Number Of Received Dracula Books:20 & Now Available Books:50\n"
     ]
    }
   ],
   "source": [
    "dc_book.Received(20)"
   ]
  },
  {
   "cell_type": "code",
   "execution_count": 7,
   "id": "482682a7",
   "metadata": {},
   "outputs": [
    {
     "name": "stdout",
     "output_type": "stream",
     "text": [
      "Number Of lend Harry Potter Books:20 & Now Available Books:40\n"
     ]
    }
   ],
   "source": [
    "hp_book.Lend(20)"
   ]
  },
  {
   "cell_type": "code",
   "execution_count": 8,
   "id": "7f47e3b1",
   "metadata": {},
   "outputs": [
    {
     "name": "stdout",
     "output_type": "stream",
     "text": [
      "Number Of lend Dracula Books:10 & Now Available Books:40\n"
     ]
    }
   ],
   "source": [
    "dc_book.Lend(10)"
   ]
  },
  {
   "cell_type": "code",
   "execution_count": 9,
   "id": "6d1322f2",
   "metadata": {},
   "outputs": [
    {
     "name": "stdout",
     "output_type": "stream",
     "text": [
      "Available Books:40\n"
     ]
    }
   ],
   "source": [
    "hp_book.Availablity()"
   ]
  },
  {
   "cell_type": "code",
   "execution_count": 10,
   "id": "5501a3bb",
   "metadata": {},
   "outputs": [
    {
     "name": "stdout",
     "output_type": "stream",
     "text": [
      "Available Books:40\n"
     ]
    }
   ],
   "source": [
    "dc_book.Availablity()"
   ]
  },
  {
   "cell_type": "code",
   "execution_count": null,
   "id": "3650e164",
   "metadata": {},
   "outputs": [],
   "source": []
  },
  {
   "cell_type": "markdown",
   "id": "2325abbd",
   "metadata": {},
   "source": [
    "HOME WORK"
   ]
  },
  {
   "cell_type": "markdown",
   "id": "ebfa54f4",
   "metadata": {},
   "source": [
    "Fill in the Line class methods to accept coordinates as a pair of tuples and return the slope and distance of the line"
   ]
  },
  {
   "cell_type": "code",
   "execution_count": 11,
   "id": "ad6c2074",
   "metadata": {},
   "outputs": [],
   "source": [
    "class Line:\n",
    "    def __init__(self,coor1,coor2):\n",
    "        self.coor1=coor1\n",
    "        self.coor2=coor2\n",
    "    \n",
    "    def distance(self):\n",
    "        return ((self.coor2[0]-self.coor1[0])**2+ \\\n",
    "               (self.coor2[1]-self.coor1[1])**2)**0.5\n",
    "    \n",
    "    def slope(self):\n",
    "        return (self.coor2[1]-self.coor1[1])/\\\n",
    "                (self.coor2[0]-self.coor1[0])\n",
    "    "
   ]
  },
  {
   "cell_type": "code",
   "execution_count": 12,
   "id": "56d9df33",
   "metadata": {},
   "outputs": [],
   "source": [
    "#EXAMPLE OUTPUT\n",
    "\n",
    "coordinate1=(3,2)\n",
    "coordinate2=(8,10)\n",
    "\n",
    "li=Line(coordinate1,coordinate2)"
   ]
  },
  {
   "cell_type": "code",
   "execution_count": 13,
   "id": "bb03e8e9",
   "metadata": {},
   "outputs": [
    {
     "data": {
      "text/plain": [
       "9.433981132056603"
      ]
     },
     "execution_count": 13,
     "metadata": {},
     "output_type": "execute_result"
    }
   ],
   "source": [
    "li.distance()"
   ]
  },
  {
   "cell_type": "code",
   "execution_count": 14,
   "id": "8f7252fd",
   "metadata": {},
   "outputs": [
    {
     "data": {
      "text/plain": [
       "1.6"
      ]
     },
     "execution_count": 14,
     "metadata": {},
     "output_type": "execute_result"
    }
   ],
   "source": [
    "li.slope()"
   ]
  },
  {
   "cell_type": "code",
   "execution_count": 15,
   "id": "6de4f7ee",
   "metadata": {},
   "outputs": [],
   "source": [
    "class Cylinder(object):\n",
    "    pi=3.14\n",
    "    \n",
    "    def __init__(self,height=1,radius=1):\n",
    "        self.height=height\n",
    "        self.radius=radius\n",
    "        \n",
    "    def volume(self):\n",
    "        return Cylinder.pi * (self.radius**2)* self.height\n",
    "    \n",
    "    def surface_area(self):\n",
    "        circles=2*Cylinder.pi *self.radius**2\n",
    "        wall=2*Cylinder.pi * self.radius*self.height\n",
    "        return circles + wall"
   ]
  },
  {
   "cell_type": "code",
   "execution_count": 16,
   "id": "eebc7195",
   "metadata": {},
   "outputs": [],
   "source": [
    "c=Cylinder(2,3)"
   ]
  },
  {
   "cell_type": "code",
   "execution_count": 17,
   "id": "caafe994",
   "metadata": {},
   "outputs": [
    {
     "data": {
      "text/plain": [
       "56.52"
      ]
     },
     "execution_count": 17,
     "metadata": {},
     "output_type": "execute_result"
    }
   ],
   "source": [
    "c.volume()"
   ]
  },
  {
   "cell_type": "code",
   "execution_count": 18,
   "id": "4c2403e3",
   "metadata": {},
   "outputs": [
    {
     "data": {
      "text/plain": [
       "94.2"
      ]
     },
     "execution_count": 18,
     "metadata": {},
     "output_type": "execute_result"
    }
   ],
   "source": [
    "c.surface_area()"
   ]
  },
  {
   "cell_type": "code",
   "execution_count": null,
   "id": "622c8d93",
   "metadata": {},
   "outputs": [],
   "source": []
  }
 ],
 "metadata": {
  "kernelspec": {
   "display_name": "Python 3 (ipykernel)",
   "language": "python",
   "name": "python3"
  },
  "language_info": {
   "codemirror_mode": {
    "name": "ipython",
    "version": 3
   },
   "file_extension": ".py",
   "mimetype": "text/x-python",
   "name": "python",
   "nbconvert_exporter": "python",
   "pygments_lexer": "ipython3",
   "version": "3.9.12"
  }
 },
 "nbformat": 4,
 "nbformat_minor": 5
}
